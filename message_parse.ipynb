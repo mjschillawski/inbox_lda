{
 "cells": [
  {
   "cell_type": "code",
   "execution_count": 18,
   "metadata": {
    "ExecuteTime": {
     "end_time": "2018-03-13T04:39:11.559185Z",
     "start_time": "2018-03-13T04:39:11.535412Z"
    },
    "collapsed": true
   },
   "outputs": [],
   "source": [
    "# https://stackoverflow.com/questions/33537476/mailbox-to-csv-using-python\n",
    "\n",
    "import sys\n",
    "import mailbox\n",
    "import csv\n",
    "import pandas as pd\n",
    "import pandas as pd\n",
    "import numpy as np\n",
    "from nltk.tokenize import RegexpTokenizer\n",
    "from nltk.stem import PorterStemmer\n",
    "from nltk.corpus import stopwords\n",
    "from gensim import corpora,models\n",
    "import pyLDAvis.gensim\n",
    "import re\n",
    "import string\n",
    "import pandas as pd\n",
    "import numpy as np\n",
    "import mailbox\n",
    "import email.utils\n",
    "from email.header import decode_header\n",
    "import html2text\n",
    "\n",
    "np.random.seed(20180313)\n",
    "pyLDAvis.enable_notebook()"
   ]
  },
  {
   "cell_type": "code",
   "execution_count": 19,
   "metadata": {
    "ExecuteTime": {
     "end_time": "2018-03-13T04:39:12.266813Z",
     "start_time": "2018-03-13T04:39:12.256248Z"
    },
    "collapsed": true
   },
   "outputs": [],
   "source": [
    "def get_content(part):\n",
    "    content = ''\n",
    "    payload = part.get_payload()\n",
    "    if isinstance(payload, str):\n",
    "        content += payload\n",
    "    else:\n",
    "        for part in payload:\n",
    "            content += get_content(part)\n",
    "    return content"
   ]
  },
  {
   "cell_type": "code",
   "execution_count": 21,
   "metadata": {
    "ExecuteTime": {
     "end_time": "2018-03-13T05:06:09.975289Z",
     "start_time": "2018-03-13T04:47:27.164363Z"
    }
   },
   "outputs": [
    {
     "name": "stdout",
     "output_type": "stream",
     "text": [
      "29580\n",
      "29889\n",
      "31780\n",
      "33712\n",
      "33838\n",
      "34596\n",
      "35621\n",
      "39266\n",
      "40719\n"
     ]
    }
   ],
   "source": [
    "datapath = '/Users/mjschillawski/Desktop/Miscellaneous Data/'\n",
    "files = ['Cornell Alum.mbox','Blog Emails.mbox','Cornell.mbox','Data.mbox','Go West, Young Man, Go West.mbox',\n",
    "             'Promotions-Outdoor Retailer.mbox','Soccer.mbox','The Thread.mbox','Housing.mbox']\n",
    "\n",
    "#files = ['Go West, Young Man, Go West.mbox']\n",
    "\n",
    "content = []\n",
    "for f in files:\n",
    "    mbox = mailbox.mbox(datapath+f)\n",
    "    for message in mbox:\n",
    "        # https://stackoverflow.com/questions/13337528/rendered-html-to-plain-text-using-python\n",
    "        try:\n",
    "            thing = html2text.html2text(get_content(message))\n",
    "            content.append(thing)\n",
    "        except:\n",
    "            pass\n",
    "    print(len(content))"
   ]
  },
  {
   "cell_type": "code",
   "execution_count": 22,
   "metadata": {
    "ExecuteTime": {
     "end_time": "2018-03-13T05:06:52.438605Z",
     "start_time": "2018-03-13T05:06:52.386582Z"
    }
   },
   "outputs": [],
   "source": [
    "def clean_text(text):\n",
    "    '''\n",
    "    Takes in a string of text, then performs the following:\n",
    "        1. Tokenizes and removes punctuation\n",
    "        2. Removes stopwords\n",
    "        3. Stems\n",
    "        4. Returns a list of the cleaned text\n",
    "    '''\n",
    "    \n",
    "    if pd.isnull(text):\n",
    "        return []\n",
    "    \n",
    "    try:        \n",
    "        # https://stackoverflow.com/questions/21209024/python-regex-remove-all-punctuation-except-hyphen-for-unicode-string\n",
    "        remove = string.punctuation\n",
    "        pattern = r\"[{}]\".format(remove) # create the pattern\n",
    "        text = re.sub(pattern,\"\",text)\n",
    "\n",
    "        # break text into words\n",
    "        tokenizer = RegexpTokenizer(r'\\w+')\n",
    "        processed_text = tokenizer.tokenize(text)\n",
    "        \n",
    "        # drop non-words\n",
    "        processed_text = [text for text in processed_text if len(text) < 25]\n",
    "\n",
    "        # remove stop words\n",
    "        processed_text = [text.lower() for text in processed_text if text.lower() \n",
    "                          not in stopwords.words('english')]\n",
    "\n",
    "        # remove other email words\n",
    "        processed_text = [text.lower() for text in processed_text if text.lower()\n",
    "                          not in ('re','fwd','r','n','t')]\n",
    "\n",
    "        # reduce words to stems\n",
    "        porter_stemmer = PorterStemmer()\n",
    "        processed_text = [porter_stemmer.stem(text) for text in processed_text]\n",
    "\n",
    "        return processed_text\n",
    "\n",
    "    except:\n",
    "        return []"
   ]
  },
  {
   "cell_type": "code",
   "execution_count": 23,
   "metadata": {
    "ExecuteTime": {
     "end_time": "2018-03-13T06:38:59.581899Z",
     "start_time": "2018-03-13T05:07:34.594288Z"
    }
   },
   "outputs": [],
   "source": [
    "clean_subjects = [clean_text(c) for c in content]\n",
    "clean_subjects = [cs for cs in clean_subjects if len(cs) > 0]"
   ]
  },
  {
   "cell_type": "code",
   "execution_count": null,
   "metadata": {
    "ExecuteTime": {
     "start_time": "2018-03-13T06:58:21.986Z"
    },
    "collapsed": true
   },
   "outputs": [],
   "source": [
    "import pickle\n",
    "\n",
    "with open(\"clean_subjects.pickle\",\"wb\") as file:\n",
    "    pickle.dump(clean_subjects,file)"
   ]
  },
  {
   "cell_type": "code",
   "execution_count": 24,
   "metadata": {
    "ExecuteTime": {
     "end_time": "2018-03-13T06:56:43.222993Z",
     "start_time": "2018-03-13T06:39:50.655174Z"
    }
   },
   "outputs": [
    {
     "name": "stderr",
     "output_type": "stream",
     "text": [
      "/Users/mjschillawski/anaconda3/lib/python3.6/site-packages/gensim/matutils.py:995: RuntimeWarning: invalid value encountered in subtract\n",
      "  result = psi(alpha) - psi(np.sum(alpha))\n",
      "/Users/mjschillawski/anaconda3/lib/python3.6/site-packages/gensim/models/ldamodel.py:522: RuntimeWarning: overflow encountered in multiply\n",
      "  gammad = self.alpha + expElogthetad * np.dot(cts / phinorm, expElogbetad.T)\n",
      "/Users/mjschillawski/anaconda3/lib/python3.6/site-packages/numpy/core/_methods.py:26: RuntimeWarning: invalid value encountered in reduce\n",
      "  return umr_maximum(a, axis, None, out, keepdims)\n"
     ]
    }
   ],
   "source": [
    "dictionary = corpora.Dictionary(clean_subjects)\n",
    "corpus = [dictionary.doc2bow(cs) for cs in clean_subjects]\n",
    "\n",
    "lda = models.ldamodel.LdaModel(corpus,\n",
    "                              id2word=dictionary,\n",
    "                              num_topics=20,\n",
    "                              passes=5,\n",
    "                              minimum_probability=.05)"
   ]
  },
  {
   "cell_type": "code",
   "execution_count": 25,
   "metadata": {
    "ExecuteTime": {
     "end_time": "2018-03-13T06:57:39.388377Z",
     "start_time": "2018-03-13T06:57:39.382159Z"
    }
   },
   "outputs": [
    {
     "data": {
      "text/plain": [
       "<gensim.models.ldamodel.LdaModel at 0x1a1ed855f8>"
      ]
     },
     "execution_count": 25,
     "metadata": {},
     "output_type": "execute_result"
    }
   ],
   "source": [
    "lda"
   ]
  },
  {
   "cell_type": "code",
   "execution_count": null,
   "metadata": {
    "ExecuteTime": {
     "start_time": "2018-03-13T04:47:30.358Z"
    }
   },
   "outputs": [],
   "source": [
    "pyLDAvis.gensim.prepare(lda,corpus,dictionary)"
   ]
  },
  {
   "cell_type": "code",
   "execution_count": null,
   "metadata": {
    "ExecuteTime": {
     "start_time": "2018-03-13T04:47:31.415Z"
    },
    "collapsed": true
   },
   "outputs": [],
   "source": [
    "doc_x_topic = np.array([[y for (x,y) in lda[corpus[i]]] for i in range(len(corpus))])"
   ]
  },
  {
   "cell_type": "code",
   "execution_count": 17,
   "metadata": {
    "ExecuteTime": {
     "end_time": "2018-03-13T04:38:41.222309Z",
     "start_time": "2018-03-13T04:38:41.196012Z"
    }
   },
   "outputs": [
    {
     "ename": "ValueError",
     "evalue": "setting an array element with a sequence.",
     "output_type": "error",
     "traceback": [
      "\u001b[0;31m---------------------------------------------------------------------------\u001b[0m",
      "\u001b[0;31mValueError\u001b[0m                                Traceback (most recent call last)",
      "\u001b[0;32m<ipython-input-17-8b7073098e49>\u001b[0m in \u001b[0;36m<module>\u001b[0;34m()\u001b[0m\n\u001b[1;32m      1\u001b[0m \u001b[0;32mfrom\u001b[0m \u001b[0msklearn\u001b[0m\u001b[0;34m.\u001b[0m\u001b[0mmanifold\u001b[0m \u001b[0;32mimport\u001b[0m \u001b[0mTSNE\u001b[0m\u001b[0;34m\u001b[0m\u001b[0m\n\u001b[1;32m      2\u001b[0m \u001b[0mtsne\u001b[0m \u001b[0;34m=\u001b[0m \u001b[0mTSNE\u001b[0m\u001b[0;34m(\u001b[0m\u001b[0mrandom_state\u001b[0m\u001b[0;34m=\u001b[0m\u001b[0;36m42\u001b[0m\u001b[0;34m,\u001b[0m \u001b[0mperplexity\u001b[0m\u001b[0;34m=\u001b[0m\u001b[0;36m30\u001b[0m\u001b[0;34m)\u001b[0m        \u001b[0;31m# Instantiates Model\u001b[0m\u001b[0;34m\u001b[0m\u001b[0m\n\u001b[0;32m----> 3\u001b[0;31m \u001b[0mtsne_embedding\u001b[0m \u001b[0;34m=\u001b[0m \u001b[0mtsne\u001b[0m\u001b[0;34m.\u001b[0m\u001b[0mfit_transform\u001b[0m\u001b[0;34m(\u001b[0m\u001b[0mdoc_x_topic\u001b[0m\u001b[0;34m)\u001b[0m   \u001b[0;31m# Fits Model/Transforms the Data\u001b[0m\u001b[0;34m\u001b[0m\u001b[0m\n\u001b[0m\u001b[1;32m      4\u001b[0m \u001b[0mtsne_embedding\u001b[0m \u001b[0;34m=\u001b[0m \u001b[0mpd\u001b[0m\u001b[0;34m.\u001b[0m\u001b[0mDataFrame\u001b[0m\u001b[0;34m(\u001b[0m\u001b[0mtsne_embedding\u001b[0m\u001b[0;34m,\u001b[0m \u001b[0mcolumns\u001b[0m\u001b[0;34m=\u001b[0m\u001b[0;34m[\u001b[0m\u001b[0;34m'x'\u001b[0m\u001b[0;34m,\u001b[0m\u001b[0;34m'y'\u001b[0m\u001b[0;34m]\u001b[0m\u001b[0;34m)\u001b[0m \u001b[0;31m# Creates Pandas Dataframe of TSNE results.\u001b[0m\u001b[0;34m\u001b[0m\u001b[0m\n\u001b[1;32m      5\u001b[0m \u001b[0mtsne_embedding\u001b[0m\u001b[0;34m[\u001b[0m\u001b[0;34m'hue'\u001b[0m\u001b[0;34m]\u001b[0m \u001b[0;34m=\u001b[0m \u001b[0mdoc_x_topic\u001b[0m\u001b[0;34m.\u001b[0m\u001b[0margmax\u001b[0m\u001b[0;34m(\u001b[0m\u001b[0maxis\u001b[0m\u001b[0;34m=\u001b[0m\u001b[0;36m1\u001b[0m\u001b[0;34m)\u001b[0m \u001b[0;31m# Creates \"hue\" based on likeliest topic.\u001b[0m\u001b[0;34m\u001b[0m\u001b[0m\n",
      "\u001b[0;32m~/anaconda3/lib/python3.6/site-packages/sklearn/manifold/t_sne.py\u001b[0m in \u001b[0;36mfit_transform\u001b[0;34m(self, X, y)\u001b[0m\n\u001b[1;32m    856\u001b[0m             \u001b[0mEmbedding\u001b[0m \u001b[0mof\u001b[0m \u001b[0mthe\u001b[0m \u001b[0mtraining\u001b[0m \u001b[0mdata\u001b[0m \u001b[0;32min\u001b[0m \u001b[0mlow\u001b[0m\u001b[0;34m-\u001b[0m\u001b[0mdimensional\u001b[0m \u001b[0mspace\u001b[0m\u001b[0;34m.\u001b[0m\u001b[0;34m\u001b[0m\u001b[0m\n\u001b[1;32m    857\u001b[0m         \"\"\"\n\u001b[0;32m--> 858\u001b[0;31m         \u001b[0membedding\u001b[0m \u001b[0;34m=\u001b[0m \u001b[0mself\u001b[0m\u001b[0;34m.\u001b[0m\u001b[0m_fit\u001b[0m\u001b[0;34m(\u001b[0m\u001b[0mX\u001b[0m\u001b[0;34m)\u001b[0m\u001b[0;34m\u001b[0m\u001b[0m\n\u001b[0m\u001b[1;32m    859\u001b[0m         \u001b[0mself\u001b[0m\u001b[0;34m.\u001b[0m\u001b[0membedding_\u001b[0m \u001b[0;34m=\u001b[0m \u001b[0membedding\u001b[0m\u001b[0;34m\u001b[0m\u001b[0m\n\u001b[1;32m    860\u001b[0m         \u001b[0;32mreturn\u001b[0m \u001b[0mself\u001b[0m\u001b[0;34m.\u001b[0m\u001b[0membedding_\u001b[0m\u001b[0;34m\u001b[0m\u001b[0m\n",
      "\u001b[0;32m~/anaconda3/lib/python3.6/site-packages/sklearn/manifold/t_sne.py\u001b[0m in \u001b[0;36m_fit\u001b[0;34m(self, X, skip_num_points)\u001b[0m\n\u001b[1;32m    658\u001b[0m         \u001b[0;32melse\u001b[0m\u001b[0;34m:\u001b[0m\u001b[0;34m\u001b[0m\u001b[0m\n\u001b[1;32m    659\u001b[0m             X = check_array(X, accept_sparse=['csr', 'csc', 'coo'],\n\u001b[0;32m--> 660\u001b[0;31m                             dtype=[np.float32, np.float64])\n\u001b[0m\u001b[1;32m    661\u001b[0m         \u001b[0;32mif\u001b[0m \u001b[0mself\u001b[0m\u001b[0;34m.\u001b[0m\u001b[0mmethod\u001b[0m \u001b[0;34m==\u001b[0m \u001b[0;34m'barnes_hut'\u001b[0m \u001b[0;32mand\u001b[0m \u001b[0mself\u001b[0m\u001b[0;34m.\u001b[0m\u001b[0mn_components\u001b[0m \u001b[0;34m>\u001b[0m \u001b[0;36m3\u001b[0m\u001b[0;34m:\u001b[0m\u001b[0;34m\u001b[0m\u001b[0m\n\u001b[1;32m    662\u001b[0m             raise ValueError(\"'n_components' should be inferior to 4 for the \"\n",
      "\u001b[0;32m~/anaconda3/lib/python3.6/site-packages/sklearn/utils/validation.py\u001b[0m in \u001b[0;36mcheck_array\u001b[0;34m(array, accept_sparse, dtype, order, copy, force_all_finite, ensure_2d, allow_nd, ensure_min_samples, ensure_min_features, warn_on_dtype, estimator)\u001b[0m\n\u001b[1;32m    431\u001b[0m                                       force_all_finite)\n\u001b[1;32m    432\u001b[0m     \u001b[0;32melse\u001b[0m\u001b[0;34m:\u001b[0m\u001b[0;34m\u001b[0m\u001b[0m\n\u001b[0;32m--> 433\u001b[0;31m         \u001b[0marray\u001b[0m \u001b[0;34m=\u001b[0m \u001b[0mnp\u001b[0m\u001b[0;34m.\u001b[0m\u001b[0marray\u001b[0m\u001b[0;34m(\u001b[0m\u001b[0marray\u001b[0m\u001b[0;34m,\u001b[0m \u001b[0mdtype\u001b[0m\u001b[0;34m=\u001b[0m\u001b[0mdtype\u001b[0m\u001b[0;34m,\u001b[0m \u001b[0morder\u001b[0m\u001b[0;34m=\u001b[0m\u001b[0morder\u001b[0m\u001b[0;34m,\u001b[0m \u001b[0mcopy\u001b[0m\u001b[0;34m=\u001b[0m\u001b[0mcopy\u001b[0m\u001b[0;34m)\u001b[0m\u001b[0;34m\u001b[0m\u001b[0m\n\u001b[0m\u001b[1;32m    434\u001b[0m \u001b[0;34m\u001b[0m\u001b[0m\n\u001b[1;32m    435\u001b[0m         \u001b[0;32mif\u001b[0m \u001b[0mensure_2d\u001b[0m\u001b[0;34m:\u001b[0m\u001b[0;34m\u001b[0m\u001b[0m\n",
      "\u001b[0;31mValueError\u001b[0m: setting an array element with a sequence."
     ]
    }
   ],
   "source": [
    "from sklearn.manifold import TSNE\n",
    "tsne = TSNE(random_state=42, perplexity=30)        # Instantiates Model\n",
    "tsne_embedding = tsne.fit_transform(doc_x_topic)   # Fits Model/Transforms the Data\n",
    "tsne_embedding = pd.DataFrame(tsne_embedding, columns=['x','y']) # Creates Pandas Dataframe of TSNE results.\n",
    "tsne_embedding['hue'] = doc_x_topic.argmax(axis=1) # Creates \"hue\" based on likeliest topic."
   ]
  },
  {
   "cell_type": "code",
   "execution_count": null,
   "metadata": {
    "ExecuteTime": {
     "end_time": "2018-03-13T04:38:12.306630Z",
     "start_time": "2018-03-13T04:38:12.151Z"
    },
    "collapsed": true
   },
   "outputs": [],
   "source": [
    "from bokeh.io import output_notebook\n",
    "from bokeh.plotting import figure, show\n",
    "from bokeh.models import HoverTool, CustomJS, ColumnDataSource, Slider\n",
    "from bokeh.layouts import column\n",
    "from bokeh.palettes import all_palettes\n",
    "output_notebook()"
   ]
  },
  {
   "cell_type": "code",
   "execution_count": 16,
   "metadata": {
    "ExecuteTime": {
     "end_time": "2018-03-13T04:38:13.667107Z",
     "start_time": "2018-03-13T04:38:13.617544Z"
    }
   },
   "outputs": [
    {
     "ename": "NameError",
     "evalue": "name 'ColumnDataSource' is not defined",
     "output_type": "error",
     "traceback": [
      "\u001b[0;31m---------------------------------------------------------------------------\u001b[0m",
      "\u001b[0;31mNameError\u001b[0m                                 Traceback (most recent call last)",
      "\u001b[0;32m<ipython-input-16-909c4a198d10>\u001b[0m in \u001b[0;36m<module>\u001b[0;34m()\u001b[0m\n\u001b[0;32m----> 1\u001b[0;31m source = ColumnDataSource(\n\u001b[0m\u001b[1;32m      2\u001b[0m         data=dict(\n\u001b[1;32m      3\u001b[0m             \u001b[0mx\u001b[0m \u001b[0;34m=\u001b[0m \u001b[0mtsne_embedding\u001b[0m\u001b[0;34m.\u001b[0m\u001b[0mx\u001b[0m\u001b[0;34m,\u001b[0m\u001b[0;34m\u001b[0m\u001b[0m\n\u001b[1;32m      4\u001b[0m             \u001b[0my\u001b[0m \u001b[0;34m=\u001b[0m \u001b[0mtsne_embedding\u001b[0m\u001b[0;34m.\u001b[0m\u001b[0my\u001b[0m\u001b[0;34m,\u001b[0m\u001b[0;34m\u001b[0m\u001b[0m\n\u001b[1;32m      5\u001b[0m             \u001b[0mcolors\u001b[0m \u001b[0;34m=\u001b[0m \u001b[0;34m[\u001b[0m\u001b[0mall_palettes\u001b[0m\u001b[0;34m[\u001b[0m\u001b[0;34m'Category20'\u001b[0m\u001b[0;34m]\u001b[0m\u001b[0;34m[\u001b[0m\u001b[0;36m20\u001b[0m\u001b[0;34m]\u001b[0m\u001b[0;34m[\u001b[0m\u001b[0mi\u001b[0m\u001b[0;34m]\u001b[0m \u001b[0;32mfor\u001b[0m \u001b[0mi\u001b[0m \u001b[0;32min\u001b[0m \u001b[0mtsne_embedding\u001b[0m\u001b[0;34m.\u001b[0m\u001b[0mhue\u001b[0m\u001b[0;34m]\u001b[0m\u001b[0;34m,\u001b[0m\u001b[0;34m\u001b[0m\u001b[0m\n",
      "\u001b[0;31mNameError\u001b[0m: name 'ColumnDataSource' is not defined"
     ]
    }
   ],
   "source": [
    "source = ColumnDataSource(\n",
    "        data=dict(\n",
    "            x = tsne_embedding.x,\n",
    "            y = tsne_embedding.y,\n",
    "            colors = [all_palettes['Category20'][20][i] for i in tsne_embedding.hue],\n",
    "            topic = [i for i in tsne_embedding.hue],\n",
    "            alpha = [0.7] * tsne_embedding.shape[0],\n",
    "            size = [5] * tsne_embedding.shape[0]\n",
    "        )\n",
    "    )\n",
    "\n",
    "hover_tsne = HoverTool(names=[\"train\"], tooltips=\"\"\"\n",
    "    <div style=\"margin: 10\">\n",
    "        <div style=\"margin: 0 auto; width:300px;\">\n",
    "            <span style=\"font-size: 12px; font-weight: bold;\">Topic:</span>\n",
    "            <span style=\"font-size: 12px\">@topic</span>\n",
    "        </div>\n",
    "    </div>\n",
    "    \"\"\")\n",
    "tools_tsne = [hover_tsne, 'pan', 'wheel_zoom', 'reset']\n",
    "plot_tsne = figure(plot_width=700, plot_height=700, tools=tools_tsne, title='Newsgroups')\n",
    "plot_tsne.circle('x', 'y', size='size', fill_color='colors', \n",
    "                 alpha='alpha', line_alpha=0, line_width=0.01, source=source, name=\"train\")\n",
    "\n",
    "callback = CustomJS(args=dict(source=source), code=\"\"\"\n",
    "    var data = source.data;\n",
    "    var f = cb_obj.value\n",
    "    x = data['x']\n",
    "    y = data['y']\n",
    "    colors = data['colors']\n",
    "    alpha = data['alpha']\n",
    "    size = data['size']\n",
    "    for (i = 0; i < x.length; i++) {\n",
    "        alpha[i] = 0.7\n",
    "        size[i] = 5\n",
    "    }\n",
    "    source.trigger('change');\n",
    "\"\"\")\n",
    "\n",
    "show(plot_tsne)"
   ]
  },
  {
   "cell_type": "code",
   "execution_count": null,
   "metadata": {
    "collapsed": true
   },
   "outputs": [],
   "source": []
  }
 ],
 "metadata": {
  "kernelspec": {
   "display_name": "Python [conda env:anaconda3]",
   "language": "python",
   "name": "conda-env-anaconda3-py"
  },
  "language_info": {
   "codemirror_mode": {
    "name": "ipython",
    "version": 3
   },
   "file_extension": ".py",
   "mimetype": "text/x-python",
   "name": "python",
   "nbconvert_exporter": "python",
   "pygments_lexer": "ipython3",
   "version": "3.6.4"
  },
  "varInspector": {
   "cols": {
    "lenName": 16,
    "lenType": 16,
    "lenVar": 40
   },
   "kernels_config": {
    "python": {
     "delete_cmd_postfix": "",
     "delete_cmd_prefix": "del ",
     "library": "var_list.py",
     "varRefreshCmd": "print(var_dic_list())"
    },
    "r": {
     "delete_cmd_postfix": ") ",
     "delete_cmd_prefix": "rm(",
     "library": "var_list.r",
     "varRefreshCmd": "cat(var_dic_list()) "
    }
   },
   "types_to_exclude": [
    "module",
    "function",
    "builtin_function_or_method",
    "instance",
    "_Feature"
   ],
   "window_display": false
  }
 },
 "nbformat": 4,
 "nbformat_minor": 2
}
