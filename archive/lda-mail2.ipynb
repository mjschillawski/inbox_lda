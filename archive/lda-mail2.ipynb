{
 "cells": [
  {
   "cell_type": "code",
   "execution_count": 1,
   "metadata": {
    "ExecuteTime": {
     "end_time": "2018-03-12T04:27:45.251365Z",
     "start_time": "2018-03-12T04:27:45.181465Z"
    },
    "collapsed": true
   },
   "outputs": [],
   "source": [
    "# https://stackoverflow.com/questions/33537476/mailbox-to-csv-using-python\n",
    "\n",
    "import sys\n",
    "import mailbox\n",
    "import csv\n",
    "from email.header import decode_header"
   ]
  },
  {
   "cell_type": "code",
   "execution_count": 2,
   "metadata": {
    "ExecuteTime": {
     "end_time": "2018-03-12T04:27:46.174466Z",
     "start_time": "2018-03-12T04:27:46.158737Z"
    },
    "collapsed": true
   },
   "outputs": [],
   "source": [
    "infile = sys.argv[1]\n",
    "outfile = sys.argv[2]\n",
    "writer = csv.writer(open(outfile, \"w\"))\n",
    "\n",
    "\n",
    "def get_content(part):\n",
    "    content = ''\n",
    "    payload = part.get_payload()\n",
    "    if isinstance(payload, str):\n",
    "        content += payload\n",
    "    else:\n",
    "        for part in payload:\n",
    "            content += get_content(part)\n",
    "    return content"
   ]
  },
  {
   "cell_type": "code",
   "execution_count": 3,
   "metadata": {
    "ExecuteTime": {
     "end_time": "2018-03-12T04:27:59.349176Z",
     "start_time": "2018-03-12T04:27:59.345093Z"
    },
    "collapsed": true
   },
   "outputs": [],
   "source": [
    "datapath = '/Users/mjschillawski/Desktop/Miscellaneous Data/'\n",
    "file = 'All mail Including Spam and Trash-001.mbox'"
   ]
  },
  {
   "cell_type": "code",
   "execution_count": null,
   "metadata": {
    "collapsed": true
   },
   "outputs": [],
   "source": [
    "writer.writerow(['date', 'from', 'to', 'subject', 'content'])\n",
    "for index, message in enumerate(mailbox.mbox(datapath+file)):\n",
    "    content = get_content(message)\n",
    "    row = [\n",
    "        message['date'],\n",
    "        message['from'].strip('>').split('<')[-1],\n",
    "        message['to'],\n",
    "        decode_header(message['subject'])[0][0],\n",
    "        content\n",
    "    ]\n",
    "    writer.writerow(row)"
   ]
  },
  {
   "cell_type": "code",
   "execution_count": null,
   "metadata": {
    "collapsed": true
   },
   "outputs": [],
   "source": []
  }
 ],
 "metadata": {
  "kernelspec": {
   "display_name": "Python [conda env:anaconda3]",
   "language": "python",
   "name": "conda-env-anaconda3-py"
  },
  "language_info": {
   "codemirror_mode": {
    "name": "ipython",
    "version": 3
   },
   "file_extension": ".py",
   "mimetype": "text/x-python",
   "name": "python",
   "nbconvert_exporter": "python",
   "pygments_lexer": "ipython3",
   "version": "3.6.4"
  },
  "varInspector": {
   "cols": {
    "lenName": 16,
    "lenType": 16,
    "lenVar": 40
   },
   "kernels_config": {
    "python": {
     "delete_cmd_postfix": "",
     "delete_cmd_prefix": "del ",
     "library": "var_list.py",
     "varRefreshCmd": "print(var_dic_list())"
    },
    "r": {
     "delete_cmd_postfix": ") ",
     "delete_cmd_prefix": "rm(",
     "library": "var_list.r",
     "varRefreshCmd": "cat(var_dic_list()) "
    }
   },
   "types_to_exclude": [
    "module",
    "function",
    "builtin_function_or_method",
    "instance",
    "_Feature"
   ],
   "window_display": false
  }
 },
 "nbformat": 4,
 "nbformat_minor": 2
}
